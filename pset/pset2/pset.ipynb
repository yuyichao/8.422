{
 "metadata": {
  "name": "",
  "signature": "sha256:cc49511b618279bef73231afe467873220838587d1121c7ac2ec9b9ee840ca86"
 },
 "nbformat": 3,
 "nbformat_minor": 0,
 "worksheets": [
  {
   "cells": [
    {
     "cell_type": "code",
     "collapsed": false,
     "input": [
      "%pylab inline\n",
      "%matplotlib inline\n",
      "from scipy.special import gamma as Gamma, gammaln"
     ],
     "language": "python",
     "metadata": {},
     "outputs": [
      {
       "output_type": "stream",
       "stream": "stdout",
       "text": [
        "Populating the interactive namespace from numpy and matplotlib\n"
       ]
      }
     ],
     "prompt_number": 1
    },
    {
     "cell_type": "code",
     "collapsed": false,
     "input": [
      "#################################################\n",
      "# UTILS TO GENERATE AND EMBED THE MOVIE\n",
      "#################################################\n",
      "\n",
      "from tempfile import NamedTemporaryFile\n",
      "import shutil\n",
      "import base64\n",
      "\n",
      "WEBM_VIDEO_TAG = \"\"\"<video controls>\n",
      " <source src=\"data:video/x-webm;base64,{0}\" type=\"video/webm\">\n",
      " Your browser does not support the video tag.\n",
      "</video>\"\"\"\n",
      "\n",
      "M4V_VIDEO_TAG = \"\"\"<video controls>\n",
      " <source src=\"data:video/x-m4v;base64,{0}\" type=\"video/mp4\">\n",
      " Your browser does not support the video tag.\n",
      "</video>\"\"\"\n",
      "\n",
      "FPS = 20         # Frames per second in the generated movie\n",
      "\n",
      "def anim_to_html(anim, filename=None):\n",
      "    if not hasattr(anim, '_encoded_video'):\n",
      "        with NamedTemporaryFile(suffix='.webm') as f:\n",
      "            webm_writer = animation.FFMpegWriter(fps=FPS, codec=\"libvpx\")  # you'll need libvpx to encode .webm videos\n",
      "            vpx_args = [\"-quality\", \"good\",    # many arguments are not needed in this example, but I left them for reference\n",
      "                        \"-cpu-used\", \"0\",\n",
      "                        \"-b:v\", \"500k\",\n",
      "                        \"-qmin\", \"10\",\n",
      "                        \"-qmax\", \"42\",\n",
      "                        \"-maxrate\", \"500k\",\n",
      "                        \"-bufsize\", \"1000k\",\n",
      "                        \"-threads\", \"4\",\n",
      "                        \"-vf\", \"scale=-1:240\",\n",
      "                        \"-codec:a\", \"libvorbis\",\n",
      "                        \"-b:a\", \"128k\"]\n",
      "            anim.save(f.name, writer=webm_writer, extra_args=vpx_args)\n",
      "            if filename is not None:  # in case you want to keep a copy of the generated movie\n",
      "                shutil.copyfile(f.name, filename)\n",
      "            video = open(f.name, \"rb\").read()\n",
      "        anim._encoded_video = base64.b64encode(video).decode('ascii')\n",
      "        \n",
      "    return WEBM_VIDEO_TAG.format(anim._encoded_video)\n",
      "\n",
      "\n",
      "from IPython.display import HTML\n",
      "\n",
      "def display_animation(anim, filename=None):\n",
      "    plt.close(anim._fig)\n",
      "    return HTML(anim_to_html(anim, filename))\n",
      "\n",
      "from matplotlib import animation\n",
      "animation.Animation._repr_html_ = anim_to_html"
     ],
     "language": "python",
     "metadata": {},
     "outputs": [],
     "prompt_number": 2
    },
    {
     "cell_type": "code",
     "collapsed": false,
     "input": [
      "def count_squeeze(r, thresh=0.01):\n",
      "    return (log(cosh(r) * thresh) / log(tanh(r))).astype(int)"
     ],
     "language": "python",
     "metadata": {},
     "outputs": [],
     "prompt_number": 3
    },
    {
     "cell_type": "code",
     "collapsed": false,
     "input": [
      "fig = figure(figsize=(6, 4))\n",
      "\n",
      "x = r_[0.1:5:1000j]\n",
      "plot(x, count_squeeze(x, 0.01), label=\"0.01\")\n",
      "x = r_[0.1:5:1000j]\n",
      "plot(x, count_squeeze(x, 0.005), label=\"0.005\")\n",
      "ylim([0, ylim()[1]])\n",
      "legend()\n",
      "xlabel(\"r\")\n",
      "ylabel(\"n\")\n",
      "savefig(\"4.png\")\n",
      "show()"
     ],
     "language": "python",
     "metadata": {},
     "outputs": [
      {
       "metadata": {},
       "output_type": "display_data",
       "png": "[encoded data removed]",
       "text": [
        "<matplotlib.figure.Figure at 0x7fb077d41400>"
       ]
      }
     ],
     "prompt_number": 4
    }
   ],
   "metadata": {}
  }
 ]
}